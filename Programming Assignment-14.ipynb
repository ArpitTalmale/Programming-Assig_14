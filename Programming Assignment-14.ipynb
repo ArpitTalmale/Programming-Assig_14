{
 "cells": [
  {
   "cell_type": "markdown",
   "id": "a0563eba",
   "metadata": {},
   "source": [
    "### 1.Define a class with a generator which can iterate the numbers, which are divisible by 7, between a given range 0 and n. ?"
   ]
  },
  {
   "cell_type": "code",
   "execution_count": 1,
   "id": "39f04022",
   "metadata": {},
   "outputs": [
    {
     "name": "stdout",
     "output_type": "stream",
     "text": [
      "0 7 14 21 28 35 42 49 56 63 70 77 84 91 98 "
     ]
    }
   ],
   "source": [
    "#Solution:-\n",
    "\n",
    "class geneartor_iterate():\n",
    "    def __init__(self,input_num):\n",
    "        self.input_num = input_num\n",
    "    def number(self):\n",
    "        for n in range(0,self.input_num+1):\n",
    "            if n%7 == 0:\n",
    "                yield n\n",
    "output_num = geneartor_iterate(100)\n",
    "for n in output_num.number():\n",
    "    print(n,end=' ')"
   ]
  },
  {
   "cell_type": "markdown",
   "id": "4820de08",
   "metadata": {},
   "source": [
    "### 2.Write a program to compute the frequency of the words from the input. The output should output after sorting the key alphanumerically.\n",
    "Suppose the following input is supplied to the program:\n",
    "New to Python or choosing between Python 2 and Python 3? Read Python 2 or Python 3.\n",
    "Then, the output should be:\n",
    "2:2 3.:1 3?:1 New:1 Python:5 Read:1 and:1 between:1 choosing:1 or:2 to:1"
   ]
  },
  {
   "cell_type": "code",
   "execution_count": 2,
   "id": "eb59277a",
   "metadata": {},
   "outputs": [
    {
     "name": "stdout",
     "output_type": "stream",
     "text": [
      "Enter the Input String:  New to Python or choosing between Python 2 and Python 3? Read Python 2 or Python 3\n",
      ":1 2:2 3:1 3?:1 New:1 Python:5 Read:1 and:1 between:1 choosing:1 or:2 to:1 "
     ]
    }
   ],
   "source": [
    "#Solution:-\n",
    "\n",
    "def check_Freq():\n",
    "    in_string = input(\"Enter the Input String: \")\n",
    "    frequency = {}\n",
    "    for ele in in_string.split(\" \"):\n",
    "        if ele not in frequency:\n",
    "            frequency[ele] = 1\n",
    "        else:\n",
    "            frequency[ele] += 1 \n",
    "    for ele in sorted(frequency):\n",
    "        print(f'{ele}:{frequency[ele]}',end=\" \")\n",
    "check_Freq()"
   ]
  },
  {
   "cell_type": "markdown",
   "id": "5ca757f1",
   "metadata": {},
   "source": [
    "### 3.Define a class Person and its two child classes: Male and Female. All classes have a method \"getGender\" which can print \"Male\" for Male class and \"Female\" for Female class. ?"
   ]
  },
  {
   "cell_type": "code",
   "execution_count": 6,
   "id": "44c96b44",
   "metadata": {},
   "outputs": [
    {
     "name": "stdout",
     "output_type": "stream",
     "text": [
      "Male\n",
      "Female\n"
     ]
    }
   ],
   "source": [
    "#Solution:-\n",
    "\n",
    "class Person():\n",
    "    def getgender():\n",
    "        pass\n",
    "class Male():\n",
    "    def getgender():\n",
    "        print(\"Male\")\n",
    "class Female():\n",
    "    def getgender():\n",
    "        print(\"Female\")\n",
    "\n",
    "Male.getgender()\n",
    "Female.getgender()"
   ]
  },
  {
   "cell_type": "markdown",
   "id": "b06185b1",
   "metadata": {},
   "source": [
    "### 4.Please write a program to generate all sentences where subject is in [\"I\", \"You\"] and verb is in [\"Play\", \"Love\"] and the object is in [\"Hockey\",\"Football\"] ? "
   ]
  },
  {
   "cell_type": "code",
   "execution_count": 7,
   "id": "52ef0029",
   "metadata": {},
   "outputs": [
    {
     "name": "stdout",
     "output_type": "stream",
     "text": [
      "I Play Hockey\n",
      "I Play Football\n",
      "I Love Hockey\n",
      "I Love Football\n",
      "You Play Hockey\n",
      "You Play Football\n",
      "You Love Hockey\n",
      "You Love Football\n"
     ]
    }
   ],
   "source": [
    "#Solution:-\n",
    "\n",
    "def sentence():\n",
    "    subject = [\"I\",\"You\"]\n",
    "    verb = [\"Play\",\"Love\"]\n",
    "    objects = [\"Hockey\",\"Football\"]\n",
    "    for i in subject:\n",
    "        for j in verb:\n",
    "            for k in objects:\n",
    "                print(f\"{i} {j} {k}\")\n",
    "sentence()                "
   ]
  },
  {
   "cell_type": "markdown",
   "id": "9b1ca075",
   "metadata": {},
   "source": [
    "### 5.Please write a program to compress and decompress the string \"hello world!hello world!hello world!hello world!\" ? "
   ]
  },
  {
   "cell_type": "code",
   "execution_count": 9,
   "id": "9a0a719c",
   "metadata": {},
   "outputs": [
    {
     "name": "stdout",
     "output_type": "stream",
     "text": [
      "hel2o world!hel2o world!hel2o world!hel2o world!\n",
      "hello world!hello world!hello world!hello world!\n",
      "ineuron ful2 stack datascience\n",
      "ineuron full stack datascience\n"
     ]
    }
   ],
   "source": [
    "#Solution:-\n",
    "\n",
    "def compress(in_string):\n",
    "    output = in_string[0]\n",
    "    count = 1\n",
    "    for i in range(len(in_string)-1):\n",
    "        if in_string[i] == in_string[i+1]:\n",
    "            count +=1\n",
    "        else:\n",
    "            if count > 1:\n",
    "                output += str(count)\n",
    "            output += in_string[i+1]\n",
    "            count = 1\n",
    "    if count > 1:\n",
    "        output += str(count)            \n",
    "    print(output)\n",
    "\n",
    "\n",
    "def decompress(in_string):\n",
    "    output = ''\n",
    "    for i in range(len(in_string)):\n",
    "        if in_string[i].isdigit():\n",
    "            output += output[-1]*(int(in_string[i])-1)\n",
    "        else:\n",
    "            output += in_string[i]\n",
    "    print(output)\n",
    "    \n",
    "        \n",
    "compress(\"hello world!hello world!hello world!hello world!\")\n",
    "decompress(\"hel2o world!hel2o world!hel2o world!hel2o world!\")\n",
    "\n",
    "compress('ineuron full stack datascience')\n",
    "decompress('ineuron ful2 stack datascience')"
   ]
  },
  {
   "cell_type": "markdown",
   "id": "60523287",
   "metadata": {},
   "source": [
    "### 6.Please write a binary search function which searches an item in a sorted list. The function should return the index of element to be searched in the list ?"
   ]
  },
  {
   "cell_type": "code",
   "execution_count": 10,
   "id": "98b4d0de",
   "metadata": {},
   "outputs": [
    {
     "name": "stdout",
     "output_type": "stream",
     "text": [
      "8\n",
      "Input Element not in the list\n"
     ]
    }
   ],
   "source": [
    "#Solution:-\n",
    "\n",
    "sorted_list = [1,2,3,4,5,6,7,8,9,10]\n",
    "def binary_search(in_list,in_num):\n",
    "    low = 0\n",
    "    high = len(in_list)-1\n",
    "    while low <= high:\n",
    "        mid = high+low//2\n",
    "        if in_list[mid] < in_num:\n",
    "            low = mid+1\n",
    "        elif in_list[mid] > in_num:\n",
    "            high = mid-1\n",
    "        else:\n",
    "            return mid\n",
    "    else:\n",
    "        return 'Input Element not in the list'\n",
    "    \n",
    "print(binary_search(sorted_list,9))\n",
    "print(binary_search(sorted_list,12))\n"
   ]
  }
 ],
 "metadata": {
  "kernelspec": {
   "display_name": "Python 3 (ipykernel)",
   "language": "python",
   "name": "python3"
  },
  "language_info": {
   "codemirror_mode": {
    "name": "ipython",
    "version": 3
   },
   "file_extension": ".py",
   "mimetype": "text/x-python",
   "name": "python",
   "nbconvert_exporter": "python",
   "pygments_lexer": "ipython3",
   "version": "3.10.9"
  }
 },
 "nbformat": 4,
 "nbformat_minor": 5
}
